{
 "cells": [
  {
   "cell_type": "code",
   "execution_count": 3,
   "id": "77cff933-bf04-4dae-9561-1ddcd40b617a",
   "metadata": {},
   "outputs": [
    {
     "name": "stdin",
     "output_type": "stream",
     "text": [
      "Enter the percentage obtained: 80\n"
     ]
    },
    {
     "name": "stdout",
     "output_type": "stream",
     "text": [
      "Grade Obtained is C\n"
     ]
    }
   ],
   "source": [
    "''' Assignment 2 \n",
    "Question 1: Write a program to accept the percentage from the user and display the grade according to the following\n",
    "criteria:\n",
    "'''\n",
    "percentage = float(input('Enter the percentage obtained:'))\n",
    "\n",
    "if percentage > 90:\n",
    "    print('Grade Obtained is A')\n",
    "elif (percentage > 80) and (percentage <= 90):\n",
    "    print('Grade Obtained is B')\n",
    "elif (percentage >= 60) and (percentage <= 80):\n",
    "    print('Grade Obtained is C')\n",
    "else:\n",
    "    print('Grade Obtained is D')\n",
    "    "
   ]
  },
  {
   "cell_type": "code",
   "execution_count": 4,
   "id": "24c65782-6fba-481b-95f4-ef6b8acdc126",
   "metadata": {},
   "outputs": [
    {
     "name": "stdin",
     "output_type": "stream",
     "text": [
      "Enter the cost of the bike: 50000\n"
     ]
    },
    {
     "name": "stdout",
     "output_type": "stream",
     "text": [
      "Road Tax on the Bike is 52500.0\n"
     ]
    }
   ],
   "source": [
    "''' Assignment 2 \n",
    "Question 2: Write a program to accept the cost price of a bike and display the road tax to be paid according to the \n",
    "following criteria:\n",
    "'''\n",
    "cost_price_bike = float(input('Enter the cost of the bike:'))\n",
    "\n",
    "if cost_price_bike > 100000:\n",
    "    road_tax = (1.15*cost_price_bike)\n",
    "    print(f'Road Tax on the Bike is {road_tax}')\n",
    "elif (cost_price_bike > 50000) and (cost_price_bike <= 100000):\n",
    "    road_tax = (1.10*cost_price_bike)\n",
    "    print(f'Road Tax on the Bike is {road_tax}')\n",
    "else:\n",
    "    road_tax = (1.05*cost_price_bike)\n",
    "    print(f'Road Tax on the Bike is {road_tax}')"
   ]
  },
  {
   "cell_type": "code",
   "execution_count": null,
   "id": "2ba43dda-efa4-4f46-9a77-8ea9424968c1",
   "metadata": {},
   "outputs": [],
   "source": [
    "''' Assignment 2 \n",
    "Question 3: Accept any city from the user and display monuments of that city:\n",
    "'''\n",
    "city = str(input('Enter the city name:'))   \n",
    "\n",
    "if (city == 'Delhi') or (city == 'delhi'):\n",
    "    print('Red Fort')\n",
    "if (city == 'Agra') or (city == 'agra'):\n",
    "    print('Taj Mahal')\n",
    "if (city == 'Jaipur') or (city == 'jaipur'):\n",
    "    print('Jal Mahal')"
   ]
  },
  {
   "cell_type": "code",
   "execution_count": 6,
   "id": "95712893-7de8-49ea-b75a-a4818db4ad21",
   "metadata": {},
   "outputs": [
    {
     "name": "stdin",
     "output_type": "stream",
     "text": [
      "Enter a number: 4732\n"
     ]
    },
    {
     "name": "stdout",
     "output_type": "stream",
     "text": [
      "Number of times a number is divided by 3 is 6\n"
     ]
    }
   ],
   "source": [
    "''' Assignment 2 \n",
    "Question 4: Check how many times a given number can be divided by 3 before it is less than or equal to 10:\n",
    "'''\n",
    "number_div = float(input('Enter a number:'))\n",
    "count = 0\n",
    "while number_div>10:\n",
    "    count+=1\n",
    "    number_div = number_div//3\n",
    "print(f'Number of times a number is divided by 3 is {count}')"
   ]
  },
  {
   "cell_type": "markdown",
   "id": "f1f57f60-d018-4e40-8cb6-038d72c4c860",
   "metadata": {},
   "source": [
    "<h1>Assignment 2<h1>\n",
    "<h2>Question 5: Why and When to use while loop in Python give a detailed description with example.<h2>\n",
    "\n",
    "Ans. The condition is typically a boolean expression that is evaluated before each iteration of the loop. If the condition is true, the code inside the loop is executed. After each iteration, the condition is checked again, and the loop continues until the condition becomes false.\n",
    "\n",
    "One common use case for a while loop is when you need to repeatedly execute a block of code until a certain condition is met.\n",
    "\n",
    "Another common use case for a while loop is when you need to iterate over a sequence of unknown length."
   ]
  },
  {
   "cell_type": "code",
   "execution_count": 2,
   "id": "d4e0bd13-0aca-452e-9eb2-df940b0573ef",
   "metadata": {},
   "outputs": [
    {
     "name": "stdout",
     "output_type": "stream",
     "text": [
      "*\n",
      "**\n",
      "***\n",
      "****\n",
      "*****\n",
      "\t\n",
      "12345\n",
      "1234\n",
      "123\n",
      "12\n",
      "1\n",
      "\t\n",
      "    *\n",
      "   **\n",
      "  ***\n",
      " ****\n",
      "*****\n"
     ]
    }
   ],
   "source": [
    "''' Assignment 2 \n",
    "Question 6: Use nested while loop to print 3 different pattern.\n",
    "'''\n",
    "#Pattern 1\n",
    "'''*\n",
    "   **\n",
    "   ***\n",
    "   ****\n",
    "   *****'''\n",
    "i = 1\n",
    "while i <= 5:\n",
    "    j = 1\n",
    "    while j <= i:\n",
    "        print(\"*\", end=\"\")\n",
    "        j += 1\n",
    "    print()\n",
    "    i += 1\n",
    "print('\\t')\n",
    "    \n",
    "#Pattern 2\n",
    "'''12345\n",
    "   1234\n",
    "   123\n",
    "   12\n",
    "   1'''\n",
    "\n",
    "i = 5\n",
    "while i >= 1:\n",
    "    j = 1\n",
    "    while j <= i:\n",
    "        print(j, end=\"\")\n",
    "        j += 1\n",
    "    print()\n",
    "    i -= 1\n",
    "print('\\t')\n",
    "\n",
    "#Pattern 3\n",
    "''' *\n",
    "   **\n",
    "  ***\n",
    " ****\n",
    "*****'''\n",
    "i = 1\n",
    "while i <= 5:\n",
    "    j = 5\n",
    "    while j >= 1:\n",
    "        if j <= i:\n",
    "            print(\"*\", end=\"\")\n",
    "        else:\n",
    "            print(\" \", end=\"\")\n",
    "        j -= 1\n",
    "    print()\n",
    "    i += 1"
   ]
  },
  {
   "cell_type": "code",
   "execution_count": 1,
   "id": "b11c46b3-8b25-462a-b4e6-899c3df30aa5",
   "metadata": {},
   "outputs": [
    {
     "name": "stdout",
     "output_type": "stream",
     "text": [
      "10\n",
      "9\n",
      "8\n",
      "7\n",
      "6\n",
      "5\n",
      "4\n",
      "3\n",
      "2\n",
      "1\n"
     ]
    }
   ],
   "source": [
    "''' Assignment 2 \n",
    "Question 7: Reverse a while loop to display numbers from 10 to 1.\n",
    "'''\n",
    "no = 10\n",
    "while (no<=10) and (no>=1):\n",
    "    print(no)\n",
    "    no-=1"
   ]
  },
  {
   "cell_type": "code",
   "execution_count": 2,
   "id": "db6edadc-2d75-4933-9192-703c76fe32a4",
   "metadata": {},
   "outputs": [
    {
     "name": "stdout",
     "output_type": "stream",
     "text": [
      "10\n",
      "9\n",
      "8\n",
      "7\n",
      "6\n",
      "5\n",
      "4\n",
      "3\n",
      "2\n",
      "1\n"
     ]
    }
   ],
   "source": [
    "''' Assignment 2 \n",
    "Question 8: Reverse a while loop to display numbers from 10 to 1.\n",
    "'''\n",
    "no = 10\n",
    "while (no<=10) and (no>=1):\n",
    "    print(no)\n",
    "    no-=1"
   ]
  }
 ],
 "metadata": {
  "kernelspec": {
   "display_name": "Python 3 (ipykernel)",
   "language": "python",
   "name": "python3"
  },
  "language_info": {
   "codemirror_mode": {
    "name": "ipython",
    "version": 3
   },
   "file_extension": ".py",
   "mimetype": "text/x-python",
   "name": "python",
   "nbconvert_exporter": "python",
   "pygments_lexer": "ipython3",
   "version": "3.10.8"
  }
 },
 "nbformat": 4,
 "nbformat_minor": 5
}
