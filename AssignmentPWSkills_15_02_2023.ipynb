{
 "cells": [
  {
   "cell_type": "markdown",
   "id": "d8055adf-2542-4225-ba9f-4c49f126d0c3",
   "metadata": {},
   "source": [
    "# Q1. What is multiprocessing in python? Why is it useful?"
   ]
  },
  {
   "cell_type": "markdown",
   "id": "96429575-63f2-4ba8-aa0a-c75397b34684",
   "metadata": {},
   "source": [
    "Multiprocessing is a module in Python that allows you to run multiple processes concurrently in order to perform a task or solve a problem. It enables you to utilize multiple cores or CPUs on a computer, which can lead to significant performance improvements.\n",
    "\n",
    "In Python, multiprocessing is used to execute multiple independent threads or processes in parallel, allowing your program to achieve better performance and scalability. It can be used to perform CPU-intensive tasks such as mathematical computations or data processing, as well as I/O-bound tasks such as reading from or writing to files, sockets, or databases.\n",
    "\n",
    "Overall, multiprocessing is a powerful tool for Python developers that enables them to write more efficient and scalable code, and take full advantage of modern hardware."
   ]
  },
  {
   "cell_type": "markdown",
   "id": "6af87d7b-cb1c-49fa-b9ee-5222a8d52d99",
   "metadata": {},
   "source": [
    "# Q2. What are the differences between multiprocessing and multithreading?"
   ]
  },
  {
   "cell_type": "markdown",
   "id": "d36f106c-932d-4a7c-b0e5-93d421741f61",
   "metadata": {},
   "source": [
    "Both multiprocessing and multithreading are techniques used to achieve parallelism in programming, but they differ in their approach and implementation.\n",
    "\n",
    "The main difference between multiprocessing and multithreading is that multiprocessing involves running multiple processes simultaneously, whereas multithreading involves running multiple threads within a single process.\n",
    "\n",
    "Multiprocessing allows you to take advantage of multiple CPUs or cores on a computer to run multiple independent processes simultaneously. Each process runs in its own memory space, so they don't share data unless you explicitly set up mechanisms to do so. This can lead to better performance and scalability for CPU-intensive tasks, but it also incurs additional overhead and can be more difficult to manage and debug.\n",
    "\n",
    "Multithreading, on the other hand, allows you to run multiple threads within a single process, each executing a separate path of execution. Threads share the same memory space, so they can communicate with each other more easily, but this also requires synchronization and coordination mechanisms to ensure data integrity and prevent race conditions. Multithreading is more suitable for tasks that are I/O-bound, such as waiting for network or disk I/O, where the overhead of creating a new process might be too high.\n",
    "\n",
    "In summary, multiprocessing is used when you need to execute multiple independent processes simultaneously, while multithreading is used when you need to execute multiple threads within a single process. Each approach has its own strengths and weaknesses, and the choice depends on the specific requirements of your application."
   ]
  },
  {
   "cell_type": "markdown",
   "id": "84e6a675-79de-42d4-b96c-dbbeeb09f572",
   "metadata": {},
   "source": [
    "# Q3. Write a python code to create a process using the multiprocessing module."
   ]
  },
  {
   "cell_type": "code",
   "execution_count": 1,
   "id": "aee9db7d-0be0-4df1-b8c6-59e8f6f8bb3c",
   "metadata": {},
   "outputs": [
    {
     "name": "stdout",
     "output_type": "stream",
     "text": [
      "This is my process!\n",
      "Process completed!\n"
     ]
    }
   ],
   "source": [
    "import multiprocessing\n",
    "\n",
    "def my_process():\n",
    "    print(\"This is my process!\")\n",
    "\n",
    "if __name__ == '__main__':\n",
    "    # create a process object\n",
    "    p = multiprocessing.Process(target=my_process)\n",
    "\n",
    "    # start the process\n",
    "    p.start()\n",
    "\n",
    "    # wait for the process to finish\n",
    "    p.join()\n",
    "\n",
    "    print(\"Process completed!\")\n"
   ]
  },
  {
   "cell_type": "markdown",
   "id": "d1c6d3de-0186-424e-839e-93c99e1a27b2",
   "metadata": {},
   "source": [
    "# Q4. What is a multiprocessing pool in python? Why is it used?"
   ]
  },
  {
   "cell_type": "markdown",
   "id": "23e94dd3-9bc6-4b91-be84-15ec20befce2",
   "metadata": {},
   "source": [
    "A multiprocessing pool in Python is a collection of worker processes that can be used to parallelize the execution of a function across multiple input values. The pool manages the allocation and distribution of work to the worker processes, and provides a convenient interface for submitting tasks and retrieving their results.\n",
    "\n",
    "```python\n",
    "import multiprocessing\n",
    "\n",
    "def my_function(x):\n",
    "    return x * x\n",
    "\n",
    "if __name__ == '__main__':\n",
    "    # create a pool of worker processes\n",
    "    with multiprocessing.Pool(processes=4) as pool:\n",
    "        # submit tasks to the pool\n",
    "        results = pool.map(my_function, [1, 2, 3, 4, 5])\n",
    "\n",
    "    # print the results\n",
    "    print(results)\n",
    "```\n"
   ]
  },
  {
   "cell_type": "markdown",
   "id": "7a4262c4-5563-44e0-9013-fec710d2ae59",
   "metadata": {},
   "source": [
    "# Q5. How can we create a pool of worker processes in python using the multiprocessing module?"
   ]
  },
  {
   "cell_type": "markdown",
   "id": "96725e26-0d31-4aed-9999-4d99e8d2c5a0",
   "metadata": {},
   "source": [
    "You can create a pool of worker processes in Python using the multiprocessing.Pool class, which provides a simple way to create a pool of worker processes and manage their execution.\n",
    "\n",
    "```python\n",
    "import multiprocessing\n",
    "\n",
    "def worker_function(task):\n",
    "    # do some work on the task\n",
    "    result = task * 2\n",
    "    return result\n",
    "\n",
    "if __name__ == '__main__':\n",
    "    # create a pool of worker processes with 4 workers\n",
    "    pool = multiprocessing.Pool(processes=4)\n",
    "\n",
    "    # define some tasks to be processed\n",
    "    tasks = [1, 2, 3, 4, 5]\n",
    "\n",
    "    # submit the tasks to the pool of workers\n",
    "    results = pool.map(worker_function, tasks)\n",
    "\n",
    "    # print the results\n",
    "    print(results)\n",
    "\n",
    "    # close the pool of workers\n",
    "    pool.close()\n",
    "\n",
    "    # wait for all worker processes to finish\n",
    "    pool.join()\n",
    "```\n",
    "In this example, we define a function worker_function that performs some work on a task and returns the result. We then create a Pool object with 4 worker processes using multiprocessing.Pool(processes=4).\n",
    "\n",
    "We define a list of tasks to be processed and submit them to the pool of workers using the map method of the Pool object. The map method applies the worker_function function to each task in parallel across the worker processes, and returns a list of results.\n",
    "\n",
    "Finally, we print the results and close the pool of workers using the close method, and wait for all worker processes to finish using the join method.\n",
    "\n",
    "Note that the if __name__ == '__main__': block is included to ensure that the code inside the block only runs when the script is executed directly, and not when it is imported as a module. This is necessary to avoid issues with multiprocessing on certain platforms."
   ]
  },
  {
   "cell_type": "markdown",
   "id": "729969b0-054e-4a2e-8b53-b224cb6a3ef1",
   "metadata": {},
   "source": [
    "# Q6. Write a python program to create 4 processes, each process should print a different number using the multiprocessing module in python."
   ]
  },
  {
   "cell_type": "code",
   "execution_count": 2,
   "id": "9bf530dc-5eb2-4f4c-a96e-2ecc9ebfc8f0",
   "metadata": {},
   "outputs": [
    {
     "name": "stdout",
     "output_type": "stream",
     "text": [
      "Process Process-2 prints 1\n",
      "Process Process-3 prints 2\n",
      "Process Process-4 prints 3\n",
      "Process Process-5 prints 4\n"
     ]
    }
   ],
   "source": [
    "import multiprocessing\n",
    "\n",
    "def print_number(num):\n",
    "    print(f\"Process {multiprocessing.current_process().name} prints {num}\")\n",
    "\n",
    "if __name__ == '__main__':\n",
    "    # create 4 processes\n",
    "    processes = [multiprocessing.Process(target=print_number, args=(i,)) for i in range(1, 5)]\n",
    "\n",
    "    # start the processes\n",
    "    for process in processes:\n",
    "        process.start()\n",
    "\n",
    "    # wait for the processes to finish\n",
    "    for process in processes:\n",
    "        process.join()\n"
   ]
  }
 ],
 "metadata": {
  "kernelspec": {
   "display_name": "Python 3 (ipykernel)",
   "language": "python",
   "name": "python3"
  },
  "language_info": {
   "codemirror_mode": {
    "name": "ipython",
    "version": 3
   },
   "file_extension": ".py",
   "mimetype": "text/x-python",
   "name": "python",
   "nbconvert_exporter": "python",
   "pygments_lexer": "ipython3",
   "version": "3.10.8"
  }
 },
 "nbformat": 4,
 "nbformat_minor": 5
}
