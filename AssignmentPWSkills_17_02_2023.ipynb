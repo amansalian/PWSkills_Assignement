{
 "cells": [
  {
   "cell_type": "markdown",
   "id": "962f2dc9-4376-4d88-a8a4-e11a3cd332d6",
   "metadata": {},
   "source": [
    "# Q1. What is MongoDB? Explain non-relational databases in short. In which scenarios it is preferred to use MongoDB over SQL databases?"
   ]
  },
  {
   "cell_type": "markdown",
   "id": "3473e545-7d04-4cb0-b666-885d7db3bd30",
   "metadata": {},
   "source": [
    "MongoDB is a document-oriented NoSQL database that uses JSON-like documents with dynamic schemas, allowing for flexible and scalable data storage. It was designed to handle large amounts of unstructured data and support high availability and horizontal scaling.\n",
    "\n",
    "Non-relational databases, also known as NoSQL databases, are a type of database management system that do not use traditional tabular relations used in relational databases. Instead, they use a variety of data models, such as key-value pairs, documents, or graphs, to organize and store data.\n",
    "\n",
    "MongoDB is preferred over SQL databases in scenarios where there is a need for high scalability, high availability, and handling of unstructured data. It is commonly used in web applications, big data, and real-time analytics. MongoDB's dynamic schema allows for easy modification of data models without the need for schema migrations. Additionally, MongoDB's horizontal scaling allows for the distribution of data across multiple servers to handle large amounts of data traffic."
   ]
  },
  {
   "cell_type": "markdown",
   "id": "8e263482-641f-4c9a-8737-6ea8680fc7ff",
   "metadata": {},
   "source": [
    "# Q2. State and Explain the features of MongoDB."
   ]
  },
  {
   "cell_type": "markdown",
   "id": "ed214e16-0255-4b52-b86e-6023d8ac4b1d",
   "metadata": {},
   "source": [
    "Dynamic Schema: MongoDB uses a dynamic schema, which means that documents in a collection can have different fields and structures. This makes it easy to handle evolving and unstructured data, without the need for complex database migrations.\n",
    "\n",
    "No Joins: Unlike relational databases, MongoDB does not use joins, which can be a source of performance issues in large databases. Instead, it uses embedded documents and arrays to represent complex relationships between data.\n",
    "\n",
    "Scalability: MongoDB's architecture is designed for horizontal scaling, which means that it can easily handle large amounts of data by distributing it across multiple servers. It also supports sharding, which allows for the partitioning of data across multiple machines.\n",
    "\n",
    "High Availability: MongoDB offers automatic failover and replication, which ensures that data is always available, even in the case of a server failure. It also provides a number of tools for monitoring and managing replication and sharding.\n",
    "\n",
    "Rich Query Language: MongoDB offers a powerful query language that supports a wide range of search and filtering capabilities. It also supports full-text search and aggregation operations, which can be used for real-time analytics and reporting.\n",
    "\n",
    "Ad hoc Queries: MongoDB allows users to perform ad hoc queries on data, without the need for predefined indexes. This makes it easy to explore and analyze data in real-time.\n",
    "\n",
    "Support for Multiple Data Formats: MongoDB supports a wide range of data formats, including JSON, BSON, and XML. This makes it easy to integrate with other data sources and systems."
   ]
  },
  {
   "cell_type": "markdown",
   "id": "812662aa-2255-4e31-aa54-de5c3fc75fbf",
   "metadata": {},
   "source": [
    "# Q3. Write a code to connect MongoDB to Python. Also, create a database and a collection in MongoDB."
   ]
  },
  {
   "cell_type": "markdown",
   "id": "89a457ea-d408-4e8b-8ca1-3a8a43461b64",
   "metadata": {},
   "source": [
    "```python\n",
    "import pymongo\n",
    "\n",
    "# Create a MongoClient object\n",
    "client = pymongo.MongoClient(\"mongodb://localhost:27017/\")\n",
    "\n",
    "# Create a database\n",
    "mydb = client[\"mydatabase\"]\n",
    "\n",
    "# Create a collection\n",
    "mycol = mydb[\"customers\"]\n",
    "\n",
    "# Insert a document into the collection\n",
    "mydict = { \"name\": \"John\", \"address\": \"Highway 37\" }\n",
    "x = mycol.insert_one(mydict)\n",
    "\n",
    "# Print the inserted document ID\n",
    "print(x.inserted_id)\n",
    "```\n"
   ]
  },
  {
   "cell_type": "markdown",
   "id": "f47347f4-5f3b-4323-bc16-8da65369626e",
   "metadata": {},
   "source": [
    "# Q4. Using the database and the collection created in question number 3, write a code to insert one record, and insert many records. Use the find() and find_one() methods to print the inserted record."
   ]
  },
  {
   "cell_type": "markdown",
   "id": "659ec209-8803-4d26-86d0-6b83c56c3cd0",
   "metadata": {},
   "source": [
    "```python\n",
    "from pymongo import MongoClient\n",
    "\n",
    "# connect to MongoDB\n",
    "client = MongoClient()\n",
    "db = client['mydatabase']\n",
    "collection = db['mycollection']\n",
    "\n",
    "# insert one record\n",
    "record = {\"name\": \"John\", \"age\": 30, \"city\": \"New York\"}\n",
    "inserted_id = collection.insert_one(record).inserted_id\n",
    "print(f\"Inserted one record with ID {inserted_id}\")\n",
    "\n",
    "# insert many records\n",
    "records = [\n",
    "    {\"name\": \"Jane\", \"age\": 25, \"city\": \"Chicago\"},\n",
    "    {\"name\": \"Mike\", \"age\": 35, \"city\": \"Los Angeles\"},\n",
    "    {\"name\": \"Sarah\", \"age\": 28, \"city\": \"San Francisco\"}\n",
    "]\n",
    "inserted_ids = collection.insert_many(records).inserted_ids\n",
    "print(f\"Inserted {len(inserted_ids)} records with IDs {inserted_ids}\")\n",
    "\n",
    "# print the inserted records\n",
    "print(\"One record:\")\n",
    "print(collection.find_one({\"_id\": inserted_id}))\n",
    "print(\"Many records:\")\n",
    "for record in collection.find():\n",
    "    print(record)\n",
    "```\n"
   ]
  },
  {
   "cell_type": "markdown",
   "id": "e5fd8808-dfcc-4a14-a979-cf92433f2784",
   "metadata": {},
   "source": [
    "# Q5. Explain how you can use the find() method to query the MongoDB database. Write a simple code to demonstrate this."
   ]
  },
  {
   "cell_type": "markdown",
   "id": "38d2ad52-0386-4ee5-a205-4eefa2624584",
   "metadata": {},
   "source": [
    "The find() method in MongoDB is used to retrieve documents from a collection that match certain criteria. It takes a query object as a parameter that specifies the selection criteria for the documents to be returned.\n",
    "```python\n",
    "from pymongo import MongoClient\n",
    "\n",
    "# connect to MongoDB\n",
    "client = MongoClient()\n",
    "db = client['mydatabase']\n",
    "collection = db['mycollection']\n",
    "\n",
    "# create a query object\n",
    "query = {\"age\": {\"$gt\": 30}}\n",
    "\n",
    "# retrieve the documents that match the query\n",
    "cursor = collection.find(query)\n",
    "\n",
    "# print the documents\n",
    "for document in cursor:\n",
    "    print(document)\n",
    "```"
   ]
  },
  {
   "cell_type": "markdown",
   "id": "ca0b9f47-717f-4524-93e5-0ba93b945c1e",
   "metadata": {},
   "source": [
    "# Q6. Explain the sort() method. Give an example to demonstrate sorting in MongoDB."
   ]
  },
  {
   "cell_type": "markdown",
   "id": "399186ad-4037-4804-a738-a2c5f38ad66b",
   "metadata": {},
   "source": [
    "The sort() method in MongoDB is used to sort the results of a query in ascending or descending order based on one or more fields. The sort() method takes a field or a list of fields and a direction as parameters, where 1 represents ascending order and -1 represents descending order. If no direction is specified, the sort order defaults to ascending order.\n",
    "\n",
    "Here's an example of how to use the sort() method in MongoDB to sort documents in the \"mycollection\" collection by the \"age\" field in descending order:\n",
    "\n",
    "```python\n",
    "from pymongo import MongoClient\n",
    "\n",
    "# connect to MongoDB\n",
    "client = MongoClient()\n",
    "db = client['mydatabase']\n",
    "collection = db['mycollection']\n",
    "\n",
    "# sort documents by age in descending order\n",
    "query = {\"age\": {\"$gt\": 25}}\n",
    "result = collection.find(query).sort(\"age\", -1)\n",
    "\n",
    "# print the sorted documents\n",
    "for document in result:\n",
    "    print(document)\n",
    "```\n",
    "In this example, we first create a connection to the MongoDB database and retrieve a reference to the \"mycollection\" collection. We then create a query object that matches all documents where the \"age\" field is greater than 25. Finally, we call the sort() method on the query result to sort the documents in descending order based on the \"age\" field.\n",
    "\n",
    "The output of the above code will be a list of documents that match the query, sorted in descending order based on the \"age\" field.\n",
    "\n",
    "Note that you can also sort on multiple fields by passing a list of fields to the sort() method. For example, to sort the documents by the \"age\" field in descending order and then by the \"name\" field in ascending order, you can use the following code:\n",
    "\n",
    "```python\n",
    "result = collection.find(query).sort([(\"age\", -1), (\"name\", 1)])\n",
    "```\n",
    "This will sort the documents first by \"age\" in descending order and then by \"name\" in ascending order."
   ]
  },
  {
   "cell_type": "markdown",
   "id": "ebf41967-5c60-4294-b821-d39a0c478d87",
   "metadata": {},
   "source": [
    "# Q7. Explain why delete_one(), delete_many(), and drop() is used."
   ]
  },
  {
   "cell_type": "markdown",
   "id": "6023655d-dde3-497d-80b3-bfb2eab15df7",
   "metadata": {},
   "source": [
    "In MongoDB, delete_one(), delete_many(), and drop() are methods used to remove documents or collections from a MongoDB database.\n",
    "\n",
    "delete_one() is used to delete a single document from a collection that matches a given filter. It takes a query object as a parameter that specifies the document to be deleted. If multiple documents match the filter, only the first matching document will be deleted.\n",
    "\n",
    "For example, to delete the first document in the \"mycollection\" collection that has the \"name\" field set to \"John\", you can use the following code:\n",
    "\n",
    "```python\n",
    "result = collection.delete_one({\"name\": \"John\"})\n",
    "```\n",
    "delete_many() is used to delete multiple documents from a collection that match a given filter. It takes a query object as a parameter that specifies the documents to be deleted. If no documents match the filter, no documents are deleted.\n",
    "\n",
    "For example, to delete all documents in the \"mycollection\" collection that have the \"age\" field set to 30, you can use the following code:\n",
    "```python\n",
    "result = collection.delete_many({\"age\": 30})\n",
    "```\n",
    "drop() is used to remove an entire collection from a database. It takes no parameters and simply removes the collection from the database.\n",
    "\n",
    "For example, to remove the \"mycollection\" collection from the \"mydatabase\" database, you can use the following code:\n",
    "```python\n",
    "collection = db[\"mycollection\"]\n",
    "collection.drop()\n",
    "```\n",
    "In summary, delete_one() and delete_many() are used to remove documents from a collection based on a filter, while drop() is used to remove an entire collection from a database."
   ]
  },
  {
   "cell_type": "code",
   "execution_count": null,
   "id": "c9d5cc28-0428-42eb-8a0c-c7a23a6f203a",
   "metadata": {},
   "outputs": [],
   "source": []
  }
 ],
 "metadata": {
  "kernelspec": {
   "display_name": "Python 3 (ipykernel)",
   "language": "python",
   "name": "python3"
  },
  "language_info": {
   "codemirror_mode": {
    "name": "ipython",
    "version": 3
   },
   "file_extension": ".py",
   "mimetype": "text/x-python",
   "name": "python",
   "nbconvert_exporter": "python",
   "pygments_lexer": "ipython3",
   "version": "3.10.8"
  }
 },
 "nbformat": 4,
 "nbformat_minor": 5
}
