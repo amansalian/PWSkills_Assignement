{
 "cells": [
  {
   "cell_type": "markdown",
   "id": "69722379-8977-43b3-89f5-b92d32fd222c",
   "metadata": {},
   "source": [
    "# Q1. Create a python program to sort the given list of tuples based on integer value using a lambda function.[('Sachin Tendulkar', 34357), ('Ricky Ponting', 27483), ('Jack Kallis', 25534), ('Virat Kohli', 24936)]"
   ]
  },
  {
   "cell_type": "code",
   "execution_count": 1,
   "id": "755b55a4-3063-468c-818a-693a8bea5c43",
   "metadata": {},
   "outputs": [
    {
     "name": "stdout",
     "output_type": "stream",
     "text": [
      "[('Sachin Tendulkar', 34357), ('Ricky Ponting', 27483), ('Jack Kallis', 25534), ('Virat Kohli', 24936)]\n"
     ]
    }
   ],
   "source": [
    "# Define the list of tuples\n",
    "my_list = [('Sachin Tendulkar', 34357), ('Ricky Ponting', 27483), ('Jack Kallis', 25534), ('Virat Kohli', 24936)]\n",
    "\n",
    "# Sort the list of tuples based on the integer value using a lambda function\n",
    "my_list.sort(key=lambda x: x[1], reverse=True)\n",
    "\n",
    "# Print the sorted list of tuples\n",
    "print(my_list)\n"
   ]
  },
  {
   "cell_type": "markdown",
   "id": "88c75388-97c7-45d6-82d4-fc73aa84ffcf",
   "metadata": {},
   "source": [
    "# Q2. Write a Python Program to find the squares of all the numbers in the given list of integers using lambda and map functions [1, 2, 3, 4, 5, 6, 7, 8, 9, 10]"
   ]
  },
  {
   "cell_type": "code",
   "execution_count": 2,
   "id": "3cee2bfb-3820-4a27-bc23-efb6a2409581",
   "metadata": {},
   "outputs": [
    {
     "name": "stdout",
     "output_type": "stream",
     "text": [
      "[1, 4, 9, 16, 25, 36, 49, 64, 81, 100]\n"
     ]
    }
   ],
   "source": [
    "#define the list \n",
    "lst = [1,2,3,4,5,6,7,8,9,10]\n",
    "\n",
    "#Function to square each individual element \n",
    "sq_lst = list(map(lambda x : x**2,lst))\n",
    "\n",
    "print(sq_lst)"
   ]
  },
  {
   "cell_type": "markdown",
   "id": "fc12b7d8-6186-401a-b3f3-3d14b3e07e89",
   "metadata": {},
   "source": [
    "# Q3. Write a python program to convert the given list of integers into a tuple of strings. Use map and lambda functions Given String: [1, 2, 3, 4, 5, 6, 7, 8, 9, 10] Expected output: ('1', '2', '3', '4', '5', '6', '7', '8', '9', '10')"
   ]
  },
  {
   "cell_type": "code",
   "execution_count": 1,
   "id": "28c8e224-1d60-4245-8073-c2c7061ab182",
   "metadata": {},
   "outputs": [
    {
     "name": "stdout",
     "output_type": "stream",
     "text": [
      "('1', '2', '3', '4', '5', '6', '7', '8', '9', '10')\n"
     ]
    }
   ],
   "source": [
    "# Define the list of integers\n",
    "my_list = [1, 2, 3, 4, 5, 6, 7, 8, 9, 10]\n",
    "\n",
    "# Use a lambda function with the map() function to convert the integers to strings\n",
    "my_tuple = tuple(map(lambda x: str(x), my_list))\n",
    "\n",
    "# Print the tuple of strings\n",
    "print(my_tuple)"
   ]
  },
  {
   "cell_type": "markdown",
   "id": "dd2c6e5f-7724-47cf-849c-63edfc62300a",
   "metadata": {},
   "source": [
    "# Q4.Write a python program using reduce function to compute the product of a list containing numbers from 1 to 25."
   ]
  },
  {
   "cell_type": "code",
   "execution_count": 5,
   "id": "2562678d-d758-4189-be32-78c82b864a7f",
   "metadata": {},
   "outputs": [
    {
     "name": "stdout",
     "output_type": "stream",
     "text": [
      "15511210043330985984000000\n"
     ]
    }
   ],
   "source": [
    "from functools import reduce\n",
    "lst_1_25 = []\n",
    "for i in range(1,26):\n",
    "    lst_1_25.append(i)\n",
    "\n",
    "product = reduce(lambda x, y : x * y, lst_1_25)\n",
    "print(product)\n",
    "    "
   ]
  },
  {
   "cell_type": "markdown",
   "id": "662d35de-411e-4611-8a43-4e41a36e9ab8",
   "metadata": {},
   "source": [
    "# Q5. Write a python program to filter the numbers in a given list that are divisible by 2 and 3 using the filter function.\n",
    "[2, 3, 6, 9, 27, 60, 90, 120, 55, 46]"
   ]
  },
  {
   "cell_type": "code",
   "execution_count": 5,
   "id": "49c15693-6216-4d0d-821c-0c2f59efdc6b",
   "metadata": {},
   "outputs": [
    {
     "name": "stdout",
     "output_type": "stream",
     "text": [
      "[6, 60, 90, 120]\n"
     ]
    }
   ],
   "source": [
    "filter_list = [2, 3, 6, 9, 27, 60, 90, 120, 55, 46]\n",
    "\n",
    "filtered_list = list(filter(lambda x : x%2== 0 and x%3== 0 , filter_list))\n",
    "\n",
    "print(filtered_list)"
   ]
  },
  {
   "cell_type": "markdown",
   "id": "1d263b1a-c5db-4d8e-820f-5fac8d9e53c0",
   "metadata": {},
   "source": [
    "# Q6.Write a python program to find palindromes in the given list of strings using lambda and filter function.\n",
    "['python', 'php', 'aba', 'radar', 'level']"
   ]
  },
  {
   "cell_type": "code",
   "execution_count": 7,
   "id": "587b9d65-6f64-471d-95f4-3c4aca0ed0d1",
   "metadata": {},
   "outputs": [
    {
     "name": "stdout",
     "output_type": "stream",
     "text": [
      "['php', 'aba', 'radar', 'level']\n"
     ]
    }
   ],
   "source": [
    "palindrome_list = ['python', 'php', 'aba', 'radar', 'level']\n",
    "\n",
    "filtered_palindrome_list = list(filter(lambda x: x == x[::-1], palindrome_list))\n",
    "\n",
    "print(filtered_palindrome_list)"
   ]
  }
 ],
 "metadata": {
  "kernelspec": {
   "display_name": "Python 3 (ipykernel)",
   "language": "python",
   "name": "python3"
  },
  "language_info": {
   "codemirror_mode": {
    "name": "ipython",
    "version": 3
   },
   "file_extension": ".py",
   "mimetype": "text/x-python",
   "name": "python",
   "nbconvert_exporter": "python",
   "pygments_lexer": "ipython3",
   "version": "3.10.8"
  }
 },
 "nbformat": 4,
 "nbformat_minor": 5
}
