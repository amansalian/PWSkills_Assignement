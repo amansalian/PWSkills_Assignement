{
 "cells": [
  {
   "cell_type": "markdown",
   "id": "e63a25fe-8bde-45a4-b8a0-d20d543cfe7e",
   "metadata": {},
   "source": [
    "# Q1. Explain why we have to use the Exception class while creating a Custom Exception."
   ]
  },
  {
   "cell_type": "markdown",
   "id": "44878ef2-78cb-4457-b142-e77d7b1b2aab",
   "metadata": {},
   "source": [
    "When creating a custom exception in Python, it's important to inherit from the built-in Exception class. This is because Exception is the base class for all built-in exceptions in Python, and it provides a standard interface and behavior for all exceptions.\n",
    "\n",
    "Inheriting from Exception allows your custom exception to be caught by any code that catches the base Exception class or any of its subclasses. This is important for writing robust code that handles errors gracefully and provides useful feedback to users or developers.\n",
    "\n",
    "Additionally, inheriting from Exception allows you to take advantage of the existing functionality of the base class, such as its ability to store and display an error message when an exception is raised. By defining your custom exception as a subclass of Exception, you can also add any additional functionality or attributes that are specific to your use case.\n",
    "\n",
    "Overall, using the Exception class as the base for your custom exception ensures that your code is consistent with Python's built-in exception handling mechanisms and helps to promote good coding practices."
   ]
  },
  {
   "cell_type": "markdown",
   "id": "8308f331-d3cc-4351-8cc4-862214327626",
   "metadata": {},
   "source": [
    "# Q2. Write a python program to print Python Exception Hierarchy."
   ]
  },
  {
   "cell_type": "code",
   "execution_count": 2,
   "id": "a820fecf-3a5d-42fd-9a87-4e9fdd7d2ee8",
   "metadata": {},
   "outputs": [
    {
     "name": "stdout",
     "output_type": "stream",
     "text": [
      " BaseException\n",
      "  object\n"
     ]
    }
   ],
   "source": [
    "# Define a function to recursively print the exception hierarchy\n",
    "def print_exception_hierarchy(exception_class, depth=0):\n",
    "    # Print the class name and its depth in the hierarchy\n",
    "    print(\" \" * depth, exception_class.__name__)\n",
    "    \n",
    "    # Recursively print the parent classes\n",
    "    for parent_class in exception_class.__bases__:\n",
    "        print_exception_hierarchy(parent_class, depth+1)\n",
    "\n",
    "# Call the function starting from the base class\n",
    "print_exception_hierarchy(BaseException)\n"
   ]
  },
  {
   "cell_type": "markdown",
   "id": "a8342dcf-9dcd-4a10-b1d9-a2e3082706ac",
   "metadata": {},
   "source": [
    "# Q3. What errors are defined in the ArithmeticError class? Explain any two with an example."
   ]
  },
  {
   "cell_type": "markdown",
   "id": "4b1701b5-8157-4b83-94d6-c55bbd0b6c44",
   "metadata": {},
   "source": [
    "The ArithmeticError class is a subclass of the built-in Exception class in Python, and it serves as the base class for exceptions that are related to arithmetic operations. The following errors are defined as subclasses of ArithmeticError:\n",
    "\n",
    "FloatingPointError: Raised when a floating-point calculation fails to produce a valid result. For example, dividing a number by zero or taking the square root of a negative number can result in a floating-point error. Here's an example:\n",
    "\n",
    "```python\n",
    "try:\n",
    "    result = 1 / 0.0\n",
    "except FloatingPointError as e:\n",
    "    print(f\"Error: {type(e).__name__} - {e}\")\n",
    "```\n",
    "\n",
    "ZeroDivisionError: Raised when attempting to divide a number by zero. This is a common error that can occur in many different types of programs. Here's an example:\n",
    "\n",
    "```python\n",
    "try:\n",
    "    result = 1 / 0\n",
    "except ZeroDivisionError as e:\n",
    "    print(f\"Error: {type(e).__name__} - {e}\")\n",
    "```\n",
    "Both of these errors are related to arithmetic operations, but they have different causes and may occur in different contexts. FloatingPointError is specific to floating-point calculations and can occur when performing operations like addition, subtraction, multiplication, or division. ZeroDivisionError, on the other hand, is specific to division and occurs whenever a number is divided by zero. Both of these errors can be caught and handled using a try/except block, which allows you to gracefully handle the error and provide feedback to the user."
   ]
  },
  {
   "cell_type": "markdown",
   "id": "61ae1dd0-c45f-444f-bee9-9c29fc124ab2",
   "metadata": {},
   "source": [
    "# Q4. Why LookupError class is used? Explain with an example KeyError and IndexError."
   ]
  },
  {
   "cell_type": "markdown",
   "id": "855f05d5-7161-4db1-8396-185abef4dc6c",
   "metadata": {},
   "source": [
    "The LookupError class is a subclass of the built-in Exception class in Python, and it serves as the base class for exceptions that are related to lookup operations, such as indexing or key-based access. The following errors are defined as subclasses of LookupError:\n",
    "\n",
    "IndexError: Raised when attempting to access an index that is out of range for a sequence, such as a list or tuple. For example:\n",
    "\n",
    "```python\n",
    "my_list = [1, 2, 3]\n",
    "try:\n",
    "    value = my_list[3]\n",
    "except IndexError as e:\n",
    "    print(f\"Error: {type(e).__name__} - {e}\")\n",
    "```\n",
    "\n",
    "The KeyError exception is a subclass of LookupError that is raised when a mapping (like a dictionary) is accessed with a key that is not present in the mapping. For example, consider the following code:\n",
    "\n",
    "```python\n",
    "my_dict = {'apple': 1, 'banana': 2, 'orange': 3}\n",
    "print(my_dict['grape'])\n",
    "```\n",
    "\n",
    "In this case, my_dict does not contain the key 'grape', so a KeyError will be raised with the message \"KeyError: 'grape'\".\n",
    "\n",
    "In summary, the LookupError class and its subclasses, such as KeyError and IndexError, are used to handle errors related to accessing keys or indexes that do not exist in mappings or sequences."
   ]
  },
  {
   "cell_type": "markdown",
   "id": "a494ad8e-e5e3-418c-a997-c556f25a0d61",
   "metadata": {},
   "source": [
    "# Q5. Explain ImportError. What is ModuleNotFoundError?"
   ]
  },
  {
   "cell_type": "markdown",
   "id": "8e63fbe3-fb6f-41db-8a12-32d4439adbd6",
   "metadata": {},
   "source": [
    "ImportError is an exception that is raised when a module or package cannot be imported. It can be caused by a variety of reasons, such as a missing dependency, an incorrect installation, or a syntax error in the module's code.\n",
    "\n",
    "For example, let's say we have a Python script that imports the pandas package:\n",
    "\n",
    "```python\n",
    "import pandas\n",
    "\n",
    "# Use pandas functions here...\n",
    "```\n",
    "\n",
    "If the pandas package is not installed on the system, running this script will raise an ImportError with a message indicating that the module could not be found.\n",
    "\n",
    "ModuleNotFoundError is a subclass of ImportError that was introduced in Python 3.6. It is raised when a module is not found, and the error message explicitly states that the module was not found.\n",
    "\n",
    "For example, if we try to import a non-existent module called my_module:\n",
    "\n",
    "```python\n",
    "import my_module\n",
    "```\n",
    "This will raise a ModuleNotFoundError with the message \"No module named 'my_module'\".\n",
    "\n",
    "In summary, ImportError is a general exception that is raised when a module cannot be imported, while ModuleNotFoundError is a specific subclass of ImportError that is raised when a module is not found."
   ]
  },
  {
   "cell_type": "markdown",
   "id": "d6e410e6-6a3c-4e79-9dab-b29ed1f98675",
   "metadata": {},
   "source": [
    "# Q6. List down some best practices for exception handling in python."
   ]
  },
  {
   "cell_type": "markdown",
   "id": "33cbfd61-b615-4b5f-803e-81eccba6bf90",
   "metadata": {},
   "source": [
    "Exception handling is an important part of writing robust and maintainable code in Python. Here are some best practices for exception handling in Python:\n",
    "\n",
    "- Use try-except blocks to catch and handle exceptions: Use try-except blocks to catch exceptions and handle them appropriately. It is generally better to catch specific exceptions rather than using a broad except block.\n",
    "\n",
    "- Use specific exception types: Use specific exception types rather than the base Exception class. This makes it easier to handle different types of errors and ensures that you are only catching the exceptions that you intend to handle.\n",
    "\n",
    "- Keep the try block small: Keep the try block as small as possible to limit the scope of the exceptions that could be raised. This makes it easier to isolate and handle exceptions.\n",
    "\n",
    "- Log exceptions: Use a logging library to log exceptions and other errors. This helps with debugging and monitoring of the application.\n",
    "\n",
    "- Use the finally block for cleanup: Use the finally block to perform any necessary cleanup, such as closing files or releasing resources.\n",
    "\n",
    "- Avoid using bare except blocks: Avoid using bare except blocks, which catch all exceptions. This can make it difficult to debug errors and can lead to unexpected behavior.\n",
    "\n",
    "- Raise exceptions when appropriate: Raise exceptions when appropriate, such as when an input is invalid or when a resource is not available. This makes it easier to handle errors and can improve the maintainability of the code.\n",
    "\n",
    "- Use context managers: Use context managers, such as the with statement, to ensure that resources are properly acquired and released. This can help avoid errors and improve the reliability of the code.\n",
    "\n",
    "- Document exceptions: Document the exceptions that a function can raise in the function's docstring. This helps with understanding the function's behavior and can assist with debugging.\n",
    "\n",
    "By following these best practices, you can write code that is more robust, maintainable, and reliable."
   ]
  }
 ],
 "metadata": {
  "kernelspec": {
   "display_name": "Python 3 (ipykernel)",
   "language": "python",
   "name": "python3"
  },
  "language_info": {
   "codemirror_mode": {
    "name": "ipython",
    "version": 3
   },
   "file_extension": ".py",
   "mimetype": "text/x-python",
   "name": "python",
   "nbconvert_exporter": "python",
   "pygments_lexer": "ipython3",
   "version": "3.10.8"
  }
 },
 "nbformat": 4,
 "nbformat_minor": 5
}
