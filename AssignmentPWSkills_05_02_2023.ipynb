{
 "cells": [
  {
   "cell_type": "markdown",
   "id": "f6ac1e64-c369-4928-b611-f7c65db1ac7c",
   "metadata": {},
   "source": [
    "# Assignment on OOPS - By: Aman Vandeep Salian"
   ]
  },
  {
   "cell_type": "markdown",
   "id": "4764c339-fd12-4552-b388-51ff7a8ad4f2",
   "metadata": {
    "tags": []
   },
   "source": [
    "# Q1. Explain Class and Object with respect to Object-Oriented Programming. Give a suitable example."
   ]
  },
  {
   "cell_type": "markdown",
   "id": "23a4e168-c5ab-4644-9fd0-98b5e416ecef",
   "metadata": {},
   "source": [
    "- In Object-Oriented Programming (OOP), a class is a blueprint or a template for creating objects, while an object is an instance of a class that has its own state and behavior. A class defines a set of attributes and methods that the objects of that class will have.\n",
    "- For example, consider the class \"Car\". A Car has attributes such as make, model, year, color, and a method such as \"drive\" that allows it to move. In OOP terms, \"Car\" is a class, and \"make\", \"model\", \"year\", \"color\", and \"drive\" are its attributes and methods."
   ]
  },
  {
   "cell_type": "markdown",
   "id": "8cf609ef-9359-4c1a-b3aa-6f7efda3d5d4",
   "metadata": {},
   "source": [
    "# Q2. Name the four pillars of OOPs."
   ]
  },
  {
   "cell_type": "markdown",
   "id": "14c4c36a-bf3f-414a-a3f9-6ab1d925c4b2",
   "metadata": {},
   "source": [
    "The four pillars of Object-Oriented Programming (OOP) are:\n",
    "\n",
    "- Encapsulation: This is the practice of combining data and functions into a single unit (a class) and restricting access to the inner workings of    that unit from outside code. This helps to maintain the integrity of the data and prevent accidental modifications.\n",
    "\n",
    "- Inheritance: This is the ability of a class to inherit properties and methods from a parent class. This helps to reduce code duplication and promote reuse of existing code.\n",
    "\n",
    "- Polymorphism: This is the ability of an object to take on multiple forms, depending on the context in which it is used. This allows for more flexible and dynamic code, where different objects can respond differently to the same message or method call.\n",
    "\n",
    "- Abstraction: This is the practice of reducing complex systems to their essential components and interactions, and presenting them in a simplified, abstracted form. This helps to reduce complexity and make code easier to understand and maintain."
   ]
  },
  {
   "cell_type": "markdown",
   "id": "1cba89f3-6df0-4996-922b-b5231da8fd49",
   "metadata": {},
   "source": [
    "# Q3. Explain why the __init__() function is used. Give a suitable example."
   ]
  },
  {
   "cell_type": "markdown",
   "id": "6b8a77c3-bc66-4a11-8288-d0fa233a030e",
   "metadata": {},
   "source": [
    "The __init__() function is a special method in Python that is automatically called when an object is created from a class. It is used to initialize the attributes of the object with default values or with the values passed as arguments while creating the object. The __init__() method allows for the object to be fully initialized as soon as it is created, so that it is ready to use immediately.\n",
    "\n",
    "For example, consider a class named \"Person\" which has attributes \"name\" and \"age\". We can define an __init__() method in the class as follows:\n",
    "\n",
    "```python \n",
    "class Person:\n",
    "    def __init__(self, name, age):\n",
    "        self.name = name\n",
    "        self.age = age\n",
    "```        \n",
    "In this example, the __init__() method takes two parameters name and age along with the special self parameter, which refers to the instance of the object being created. Within the __init__() method, the values of name and age are assigned to the attributes self.name and self.age, respectively. Now, when we create an object of the \"Person\" class, we can pass values for name and age as arguments and the __init__() method will be called automatically to initialize the object's attributes. For example:\n",
    "\n",
    "```python\n",
    "person1 = Person(\"Alice\", 30)\n",
    "print(person1.name) # Output: Alice\n",
    "print(person1.age) # Output: 30\n",
    "```\n",
    "\n"
   ]
  },
  {
   "cell_type": "markdown",
   "id": "9f3b8ee6-3d1a-4c48-b9be-d0fabb5fd3d4",
   "metadata": {},
   "source": [
    "# Q4. Why self is used in OOPs?"
   ]
  },
  {
   "cell_type": "markdown",
   "id": "aaa7e2d4-c877-4956-9e74-3fbfd8d419e2",
   "metadata": {},
   "source": [
    "In Object-Oriented Programming (OOP), self is a special variable that refers to the instance of the class that is currently being manipulated. It is typically the first parameter of the methods in a class and is used to refer to the attributes and methods of that instance.\n",
    "\n",
    "In Python, when an object is created from a class, the self parameter is automatically passed to the instance methods of the class. This allows the methods to access and modify the attributes of the instance."
   ]
  },
  {
   "cell_type": "markdown",
   "id": "51bac744-f611-4e23-a1bb-f3dcfaa9dd22",
   "metadata": {},
   "source": [
    "# Q5. What is inheritance? Give an example for each type of inheritance."
   ]
  },
  {
   "cell_type": "markdown",
   "id": "e8a931ba-622e-4ebe-882f-3efdc2b25674",
   "metadata": {},
   "source": [
    "Inheritance is a mechanism in Object-Oriented Programming (OOP) that allows a class to inherit properties and behaviors from another class, known as the superclass or parent class. The class that inherits from the superclass is known as the subclass or child class. Inheritance promotes code reuse and allows for efficient and modular code organization.\n",
    "\n",
    "```python\n",
    "class Animal:\n",
    "    def __init__(self, species):\n",
    "        self.species = species\n",
    "    \n",
    "    def make_sound(self):\n",
    "        pass\n",
    "\n",
    "class Dog(Animal):\n",
    "    def __init__(self, breed):\n",
    "        super().__init__(\"Canine\")\n",
    "        self.breed = breed\n",
    "    \n",
    "    def make_sound(self):\n",
    "        return \"Bark!\"\n",
    "```\n",
    "In this example, the Dog class inherits from the Animal class using the syntax class Dog(Animal):. The Dog class has its own __init__() method that initializes the breed attribute, and also overrides the make_sound() method of the Animal class to make the dog bark. The super().__init__(\"Canine\") call in the Dog class's __init__() method calls the __init__() method of the parent class to initialize the species attribute.\n",
    "\n",
    "Multilevel inheritance: This is when a subclass inherits from another subclass.\n",
    "\n",
    "```python \n",
    "class Vehicle:\n",
    "    def __init__(self, wheels):\n",
    "        self.wheels = wheels\n",
    "\n",
    "class Car(Vehicle):\n",
    "    def __init__(self):\n",
    "        super().__init__(4)\n",
    "\n",
    "class SportsCar(Car):\n",
    "    def __init__(self):\n",
    "        super().__init__()\n",
    "```\n",
    "Multiple inheritance: This is when a subclass inherits from multiple superclasses.\n",
    "```python\n",
    "class A:\n",
    "    def method_a(self):\n",
    "        print(\"Method A\")\n",
    "\n",
    "class B:\n",
    "    def method_b(self):\n",
    "        print(\"Method B\")\n",
    "\n",
    "class C(A, B):\n",
    "    def method_c(self):\n",
    "        print(\"Method C\")\n",
    "```\n",
    "Hierarchical inheritance: This is when multiple subclasses inherit from a single superclass. \n",
    "\n",
    "```python\n",
    "class Animal:\n",
    "    def __init__(self, species):\n",
    "        self.species = species\n",
    "    \n",
    "    def make_sound(self):\n",
    "        pass\n",
    "\n",
    "class Dog(Animal):\n",
    "    def __init__(self, breed):\n",
    "        super().__init__(\"Canine\")\n",
    "        self.breed = breed\n",
    "    \n",
    "    def make_sound(self):\n",
    "        return \"Bark!\"\n",
    "\n",
    "class Cat(Animal):\n",
    "    def __init__(self, breed):\n",
    "        super().__init__(\"Feline\")\n",
    "        self.breed = breed\n",
    "    \n",
    "    def make_sound(self):\n",
    "        return \"Meow!\"\n",
    "```\n"
   ]
  }
 ],
 "metadata": {
  "kernelspec": {
   "display_name": "Python 3 (ipykernel)",
   "language": "python",
   "name": "python3"
  },
  "language_info": {
   "codemirror_mode": {
    "name": "ipython",
    "version": 3
   },
   "file_extension": ".py",
   "mimetype": "text/x-python",
   "name": "python",
   "nbconvert_exporter": "python",
   "pygments_lexer": "ipython3",
   "version": "3.10.8"
  }
 },
 "nbformat": 4,
 "nbformat_minor": 5
}
