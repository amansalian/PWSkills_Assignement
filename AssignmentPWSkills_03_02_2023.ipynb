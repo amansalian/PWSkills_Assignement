{
 "cells": [
  {
   "cell_type": "markdown",
   "id": "854cfc41-de9a-4232-84ad-a87343fbfd0b",
   "metadata": {},
   "source": [
    "# Assignment on Python Functions\n",
    "By: Aman Salian     \n",
    "Date: 3rd February 2023"
   ]
  },
  {
   "cell_type": "markdown",
   "id": "59547050-76fb-4589-abad-38e7f29697e4",
   "metadata": {},
   "source": [
    "# Q1. Which keyword is used to create a function? Create a function to return a list of odd numbers in the range of 1 to 25.\n",
    "**Answer:** The keyword used to create to a function in Python is 'def'. \n",
    "The function to return a list of odd numbers in the range of 1 to 25 is in the below cell:"
   ]
  },
  {
   "cell_type": "code",
   "execution_count": 18,
   "id": "0897adf0-c115-4fb2-ba10-ece389a58701",
   "metadata": {},
   "outputs": [
    {
     "data": {
      "text/plain": [
       "[1, 3, 5, 7, 9, 11, 13, 15, 17, 19, 21, 23, 25]"
      ]
     },
     "execution_count": 18,
     "metadata": {},
     "output_type": "execute_result"
    }
   ],
   "source": [
    "# Code for Question 1\n",
    "def odd_extracter():\n",
    "    lst=[]\n",
    "    for i in range(1,26):\n",
    "        if i%2!=0:\n",
    "            lst.append(i)\n",
    "        else:\n",
    "            continue\n",
    "    return lst\n",
    "odd_extracter()"
   ]
  },
  {
   "cell_type": "markdown",
   "id": "d626cd71-d2f3-4a36-9d2c-b3b3adfd6a0b",
   "metadata": {},
   "source": [
    "# Q2. Why *args and **kwargs is used in some functions? Create a function each for *args and **kwargs to demonstrate their use.\n",
    "**Answer:** **args* is used to pass a variable number of arguments to a function. t is used to pass a non-key worded, variable-length argument list.\n",
    "Whereas, **kwargs* is used to pass a keyworded, variable-length argument list. We use the name kwargs with the double star. The code examples for the following are presented below:"
   ]
  },
  {
   "cell_type": "code",
   "execution_count": 19,
   "id": "0c9b504e-5551-4ff0-8c24-8d02a060133c",
   "metadata": {},
   "outputs": [
    {
     "name": "stdout",
     "output_type": "stream",
     "text": [
      "First argument : Data\n",
      "Next argument through *argv : Science\n",
      "Next argument through *argv : Masters\n",
      "Next argument through *argv : by\n",
      "Next argument through *argv : PWSkills\n"
     ]
    }
   ],
   "source": [
    "def myFun(arg1, *argv):\n",
    "    print(\"First argument :\", arg1)\n",
    "    for arg in argv:\n",
    "        print(\"Next argument through *argv :\", arg)\n",
    "  \n",
    "  \n",
    "myFun('Data', 'Science', 'Masters', 'by','PWSkills')"
   ]
  },
  {
   "cell_type": "code",
   "execution_count": 1,
   "id": "8fc8860d-2a86-4365-b99d-256f1be855c0",
   "metadata": {},
   "outputs": [
    {
     "name": "stdout",
     "output_type": "stream",
     "text": [
      "first == Data\n",
      "mid == Science\n",
      "last == Masters\n"
     ]
    }
   ],
   "source": [
    "\n",
    "def myFun_1(**kwargs):\n",
    "    for key, value in kwargs.items():\n",
    "        print(\"%s == %s\" % (key, value))\n",
    "  \n",
    "  \n",
    "# Driver code\n",
    "myFun_1(first='Data', mid='Science', last='Masters')"
   ]
  },
  {
   "cell_type": "markdown",
   "id": "69b2e073-649d-46cc-8aaf-87dd38a45211",
   "metadata": {},
   "source": [
    "# Q3.What is an iterator in python? Name the method used to initialise the iterator object and the method used for iteration. Use these methods to print the first five elements of the given list [2, 4, 6, 8, 10, 12, 14, 16, 18, 20].\n",
    "**Answer:** An Iterator is a object that you can traverse through all the values. The method used to call the function is 'iter()' and the 'next()'. The following code display it in action:"
   ]
  },
  {
   "cell_type": "code",
   "execution_count": 5,
   "id": "979adf8f-9375-43c4-80ac-90350e58696b",
   "metadata": {},
   "outputs": [
    {
     "name": "stdout",
     "output_type": "stream",
     "text": [
      "2\n",
      "4\n",
      "6\n",
      "8\n",
      "10\n"
     ]
    }
   ],
   "source": [
    "my_list = [2,4,6,8,10,12,14,16,18,20]\n",
    "my_iterator = iter(my_list)\n",
    "for i in range(5):\n",
    " print(next(my_iterator))"
   ]
  },
  {
   "cell_type": "markdown",
   "id": "6f4ae518-60cc-47f5-b20e-8348e4c33e45",
   "metadata": {},
   "source": [
    "# Q4.What is a generator function in python? Why yield keyword is used? Give an example of a generator function.\n",
    "**Answer:** In Python, a generator function is a special kind of function that generates a sequence of values on-the-fly using the yield keyword, instead of returning all the values at once like a normal function. When a generator function is called, it doesn't execute the function body immediately. Instead, it creates a generator object that can be used to iterate over the values produced by the function one at a time, using a for loop, next() function, or other iterable methods."
   ]
  },
  {
   "cell_type": "code",
   "execution_count": 1,
   "id": "bce1cec5-f011-40f0-bea4-6857ca8caec8",
   "metadata": {},
   "outputs": [
    {
     "name": "stdout",
     "output_type": "stream",
     "text": [
      "0\n",
      "1\n",
      "1\n",
      "2\n",
      "3\n",
      "5\n",
      "8\n",
      "13\n",
      "21\n",
      "34\n"
     ]
    }
   ],
   "source": [
    "def fibonacci(n):\n",
    "    a, b = 0, 1\n",
    "    for i in range(n):\n",
    "        yield a\n",
    "        a, b = b, a + b\n",
    "\n",
    "for num in fibonacci(10):\n",
    "  print(num)\n"
   ]
  },
  {
   "cell_type": "markdown",
   "id": "88f8d0d4-01bb-466e-9841-25b70d1dd03b",
   "metadata": {},
   "source": [
    "# Q5. Create a generator function for prime numbers less than 1000. Use the next() method to print the first 20 prime numbers.\n"
   ]
  },
  {
   "cell_type": "code",
   "execution_count": 3,
   "id": "7ffe0ea9-5afc-4188-9af4-72b70e8a8ba2",
   "metadata": {},
   "outputs": [
    {
     "name": "stdout",
     "output_type": "stream",
     "text": [
      "2\n",
      "3\n",
      "5\n",
      "7\n",
      "11\n",
      "13\n",
      "17\n",
      "19\n",
      "23\n",
      "29\n",
      "31\n",
      "37\n",
      "41\n",
      "43\n",
      "47\n",
      "53\n",
      "59\n",
      "61\n",
      "67\n",
      "71\n"
     ]
    }
   ],
   "source": [
    "def primes():\n",
    "    for num in range(2, 1000):\n",
    "        for i in range(2, num):\n",
    "            if num % i == 0:\n",
    "                break\n",
    "        else:\n",
    "            yield num\n",
    "prime_gen = primes()\n",
    "for i in range(20):\n",
    "    print(next(prime_gen))"
   ]
  }
 ],
 "metadata": {
  "kernelspec": {
   "display_name": "Python 3 (ipykernel)",
   "language": "python",
   "name": "python3"
  },
  "language_info": {
   "codemirror_mode": {
    "name": "ipython",
    "version": 3
   },
   "file_extension": ".py",
   "mimetype": "text/x-python",
   "name": "python",
   "nbconvert_exporter": "python",
   "pygments_lexer": "ipython3",
   "version": "3.10.8"
  }
 },
 "nbformat": 4,
 "nbformat_minor": 5
}
