{
 "cells": [
  {
   "cell_type": "markdown",
   "id": "6a66c981-9876-49f1-80be-81f54f6bd5cb",
   "metadata": {},
   "source": [
    "# Q1. What is multithreading in python? Why is it used? Name the module used to handle threads in python"
   ]
  },
  {
   "cell_type": "markdown",
   "id": "bfe8cdd2-3e0c-43a8-b234-63d3fc15e80b",
   "metadata": {},
   "source": [
    "Multithreading in Python refers to the ability of a program to run multiple threads (sub-tasks) concurrently within a single process. Each thread represents a separate flow of execution within the program, allowing multiple tasks to be performed at the same time.\n",
    "\n",
    "Multithreading is used to improve the efficiency of a program and to take advantage of multi-core processors by allowing different parts of a program to run in parallel.\n",
    "\n",
    "In Python, the threading module is used to handle threads. This module provides a way to create, start, and manage threads in a Python program. The threading module provides a higher-level interface for working with threads compared to the lower-level thread module, which is also available in Python but is considered more low-level."
   ]
  },
  {
   "cell_type": "markdown",
   "id": "e1b26f3c-71b0-472e-a749-a19da0465fd5",
   "metadata": {},
   "source": [
    "# Q2. Why threading module used? Write the use of the following functions\n",
    "- activeCount\n",
    "- currentThread\n",
    "- enumerate"
   ]
  },
  {
   "cell_type": "markdown",
   "id": "28bfef65-5995-44be-8b38-b45a65685c10",
   "metadata": {},
   "source": [
    "Threading module is used to:\n",
    "- improve performance\n",
    "- simplify code\n",
    "\n",
    "These functions are useful for managing threads in a Python program. For example, activeCount() can be used to check how many threads are currently running, currentThread() can be used to get a reference to the current thread object, and enumerate() can be used to get a list of all thread objects that are currently running."
   ]
  },
  {
   "cell_type": "markdown",
   "id": "6857d0b9-0dba-4d9c-9130-026f44ae979e",
   "metadata": {},
   "source": [
    "# Q3. Explain the following functions\n",
    "1. run()\n",
    "2. start()\n",
    "3. join()\n",
    "4. isAlive()"
   ]
  },
  {
   "cell_type": "markdown",
   "id": "58a3a86c-47b0-4e89-985d-2eb909405010",
   "metadata": {},
   "source": [
    "- run(): This method is the entry point for a thread. When a thread is created, the run() method is called to start the execution of the thread. The run() method contains the code that the thread will execute.\n",
    "\n",
    "- start(): This method is used to start a thread. When the start() method is called, a new thread is created and the run() method of the thread is called. The start() method returns immediately, and the new thread starts running in the background.\n",
    "\n",
    "- join(): This method is used to wait for a thread to complete its execution. When the join() method is called on a thread, the calling thread waits until the target thread completes its execution. This can be useful when you need to synchronize the execution of multiple threads.\n",
    "\n",
    "- isAlive(): This method is used to check whether a thread is currently running or not. When the isAlive() method is called on a thread, it returns True if the thread is currently running, and False otherwise."
   ]
  },
  {
   "cell_type": "markdown",
   "id": "49dad2cf-b3ce-4b7c-8ef1-2611b48732e6",
   "metadata": {},
   "source": [
    "# Q4. Write a python program to create two threads. Thread one must print the list of squares and thread two must print the list of cubes"
   ]
  },
  {
   "cell_type": "code",
   "execution_count": 17,
   "id": "ed9a3ad9-6b30-4a4d-a7c6-d99a48894276",
   "metadata": {},
   "outputs": [
    {
     "name": "stdout",
     "output_type": "stream",
     "text": [
      "[4, 16, 25]\n",
      "[8, 64, 125]\n"
     ]
    }
   ],
   "source": [
    "import threading\n",
    "\n",
    "list_square = []\n",
    "list_cubed = []\n",
    "\n",
    "\n",
    "def squares(n):\n",
    "    #list_square = []\n",
    "    num_sq = n*n\n",
    "    list_square.append(num_sq)\n",
    "    #print(list_square)\n",
    "\n",
    "def cubed(m):\n",
    "    #ist_cubed = []\n",
    "    num_cub = m*m*m\n",
    "    list_cubed.append(num_cub)\n",
    "    #print(list_cubed)\n",
    "\n",
    "thread_1 = [threading.Thread(target=squares, args = (i,)) for i in [2,4,5]]\n",
    "thread_2 = [threading.Thread(target=cubed, args = (i,)) for i in [2,4,5]]\n",
    "\n",
    "for t in thread_1:\n",
    "    t.start()      \n",
    "    \n",
    "for y in thread_2:\n",
    "    y.start()\n",
    "    \n",
    "print(list_square)\n",
    "print(list_cubed)"
   ]
  },
  {
   "cell_type": "markdown",
   "id": "6589db9b-a3bd-4e2d-8ca6-b3f7fe8ebda7",
   "metadata": {},
   "source": [
    "# Q5. State advantages and disadvantages of multithreading"
   ]
  },
  {
   "cell_type": "markdown",
   "id": "ced30469-fbb1-485d-b787-cb8a3fcdbae0",
   "metadata": {},
   "source": [
    "Advantages:\n",
    "\n",
    "Improved performance: Multithreading can improve the performance of a program by allowing it to perform multiple tasks concurrently. This can lead to significant performance improvements, especially for programs that perform a lot of input/output (I/O) operations.\n",
    "\n",
    "Simplified code: Multithreading can simplify the code of a program by separating different tasks into separate threads. This can make the code easier to read and maintain.\n",
    "\n",
    "Resource sharing: Multithreading allows threads to share resources such as memory, files, and network connections. This can reduce the amount of resources that a program needs to use, leading to more efficient resource utilization.\n",
    "\n",
    "Disadvantages:\n",
    "\n",
    "Complexity: Multithreading can add complexity to a program, making it harder to understand and debug. Multithreaded programs can be difficult to design, implement, and maintain.\n",
    "\n",
    "Synchronization issues: Multithreading can lead to synchronization issues, where multiple threads access the same resource at the same time. This can lead to race conditions and other synchronization problems that can be hard to diagnose and fix.\n",
    "\n",
    "Overhead: Multithreading adds overhead to a program, including the overhead of creating and managing threads. This can increase the memory usage and processing time of a program."
   ]
  },
  {
   "cell_type": "markdown",
   "id": "f1963138-b871-484e-a827-4bff28f8fc9e",
   "metadata": {},
   "source": [
    "# Q6. Explain deadlocks and race conditions."
   ]
  },
  {
   "cell_type": "markdown",
   "id": "f668d27a-5fe5-4325-bdcc-c6d5bf6b7500",
   "metadata": {},
   "source": [
    "Deadlocks and race conditions are two types of problems that can occur in concurrent programming.\n",
    "\n",
    "A deadlock occurs when two or more threads are waiting for each other to release resources that they need to proceed. In other words, each thread is holding onto a resource that the other thread needs, and neither thread can proceed until the other releases its resource. This results in a situation where all threads are blocked, and the program cannot continue to make progress. Deadlocks can be difficult to detect and debug because they can occur in complex and subtle ways.\n",
    "\n",
    "A race condition occurs when two or more threads access shared data or resources in an unpredictable order, which can result in unexpected behavior or errors. This happens because the order in which the threads execute is not deterministic, and different runs of the program can produce different results. Race conditions can cause data corruption, incorrect program behavior, or even program crashes.\n",
    "\n",
    "To avoid these problems, programmers use synchronization mechanisms such as locks, semaphores, and barriers to coordinate access to shared resources and data. Proper use of these mechanisms can prevent deadlocks and race conditions and ensure that the program behaves correctly and predictably.\n",
    "\n",
    "\n",
    "\n"
   ]
  }
 ],
 "metadata": {
  "kernelspec": {
   "display_name": "Python 3 (ipykernel)",
   "language": "python",
   "name": "python3"
  },
  "language_info": {
   "codemirror_mode": {
    "name": "ipython",
    "version": 3
   },
   "file_extension": ".py",
   "mimetype": "text/x-python",
   "name": "python",
   "nbconvert_exporter": "python",
   "pygments_lexer": "ipython3",
   "version": "3.10.8"
  }
 },
 "nbformat": 4,
 "nbformat_minor": 5
}
