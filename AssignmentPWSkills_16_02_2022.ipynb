{
 "cells": [
  {
   "cell_type": "markdown",
   "id": "68682540-dbd2-4d46-89bc-b24acdf4e3ee",
   "metadata": {},
   "source": [
    "# Q1. What is a database? Differentiate between SQL and NoSQL databases."
   ]
  },
  {
   "cell_type": "markdown",
   "id": "99e2ac8b-feaf-4df3-9d1b-ae1688824510",
   "metadata": {},
   "source": [
    "DataBase is a systematic collection of data. They support electronic storage and manipulation of data. Databases make data management easy.\n",
    "\n",
    "The main difference in SQL and NoSQL:\n",
    "- SQL is a relational database whereas NoSQL database are primarily called as non-relational or distributed database. \n",
    "- SQL databases have fixed or static or predefined schema whereas NoSQL have dynamic schema.\n",
    "- SQL databases are best suited for complex queries whereaas NoSQL databases are not so good for complex queries.\n",
    "- SQL databases are vertically scalable whereas NoSQL are horizontally scalable.\n",
    "- SQL Examples: MySQL, PostgreSQL, Oracle, MS-SQL Server, etc and NoSQL examples  MongoDB, GraphQL, HBase, Neo4j, Cassandra, etc"
   ]
  },
  {
   "cell_type": "markdown",
   "id": "ec6baa26-43f4-4ecf-b876-cba8d2e840cb",
   "metadata": {},
   "source": [
    "# Q2. What is DDL? Explain why CREATE, DROP, ALTER, and TRUNCATE are used with an example."
   ]
  },
  {
   "cell_type": "markdown",
   "id": "747252de-6f14-46cd-a1ab-7751afaf685c",
   "metadata": {},
   "source": [
    "Data Definition Language(DDL) is a subset of SQL and a part of DBMS(Database Management System). DDL consist of Commands to commands like CREATE, ALTER, TRUNCATE and DROP. \n",
    "\n",
    "1. **CREATE**:\n",
    "This command is used to create a new table in SQL.\n",
    "Syntax:\n",
    "```SQL\n",
    "CREATE TABLE table_name\n",
    "(\n",
    "column_1 datatype,\n",
    "column_2 datatype,\n",
    "column_3 datatype,\n",
    "....\n",
    ");\n",
    "```\n",
    "Example:\n",
    "```SQL\n",
    "CREATE TABLE Student_info\n",
    "(\n",
    "College_Id number(2),\n",
    "College_name varchar(30),\n",
    "Branch varchar(10)\n",
    ");\n",
    "```\n",
    "\n",
    "2. **DROP**:\n",
    "This command is used to remove an existing table along with its structure from the Database.\n",
    "Syntax:\n",
    "```SQL\n",
    "DROP TABLE table_name;\n",
    "```\n",
    "Example:\n",
    "```SQL\n",
    "DROP TABLE Student_info;\n",
    "```\n",
    "\n",
    "3. **ALTER**:\n",
    "This command is used to add, delete or change columns in the existing table. The user needs to know the existing table name and can do add, delete or modify tasks easily.\n",
    "Syntax:\n",
    "```SQL\n",
    "ALTER TABLE table_name\n",
    "ADD column_name datatype;\n",
    "```\n",
    "Example:\n",
    "```SQL\n",
    "ALTER TABLE Student_info\n",
    "ADD CGPA number;\n",
    "```\n",
    "\n",
    "4. **TRUNCATE**:\n",
    "This command is used to remove all rows from the table, but the structure of the table still exists.\n",
    "Syntax:\n",
    "```SQL\n",
    "TRUNCATE TABLE table_name;\n",
    "```\n",
    "Example:\n",
    "```SQL\n",
    "TRUNCATE TABLE Student_info;\n",
    "```\n"
   ]
  },
  {
   "cell_type": "markdown",
   "id": "8a59b9be-a0e3-49f1-8ada-616a40ef028c",
   "metadata": {},
   "source": [
    "# Q3. What is DML? Explain INSERT, UPDATE, and DELETE with an example."
   ]
  },
  {
   "cell_type": "markdown",
   "id": "85dd09aa-4dea-4dc1-8d7d-c514caa93709",
   "metadata": {},
   "source": [
    "The structured query language (SQL) commands deal with the manipulation of data present in the database that belongs to the DML or Data Manipulation Language. This includes most of the SQL statements.\n",
    "1. **INSERT**:\n",
    "Insert command is used to insert data into a table.\n",
    "```SQL\n",
    "INSERT INTO <table_name> (column list) values (column values);\n",
    "```\n",
    "Example:\n",
    "```SQL\n",
    "INSERT INTO Employee(Emp_id, Emp_name) values (001, “ bhanu”);\n",
    "INSERT INTO Employee(Emp_id, Emp_name) values (002, “ hari”);\n",
    "INSERT INTO Employee(Emp_id, Emp_name) values (003, “ bob”);\n",
    "```\n",
    "\n",
    "2. **UPDATE**:\n",
    "Update command is used to update existing data within a table.\n",
    "Syntax:\n",
    "```SQL\n",
    "UPDATE <table_name> SET column_number =value_number WHERE condition;\n",
    "```\n",
    "Example:\n",
    "```SQL\n",
    "UPDATE Employee SET Emp_name= Ram WHERE Emp_id= 001;\n",
    "```\n",
    "\n",
    "3. **DELETE**:\n",
    "Delete command is used to delete records from a database table.\n",
    "Syntax:\n",
    "```SQL\n",
    "DELETE FROM <table_name>WHERE condition;\n",
    "```\n",
    "Example:\n",
    "```SQL\n",
    "DELETE FROM Employee WHERE Emp_id=002;\n",
    "```\n"
   ]
  },
  {
   "cell_type": "markdown",
   "id": "9fff94fb-f8cc-4b21-85a2-3afd6d45f2f2",
   "metadata": {},
   "source": [
    "# Q4. What is DQL? Explain SELECT with an example."
   ]
  },
  {
   "cell_type": "markdown",
   "id": "12265a30-6fbd-4080-8164-05ff72d6dfa6",
   "metadata": {},
   "source": [
    "An SQL SELECT statement retrieves records from a database table according to clauses (for example, FROM and WHERE) that specify criteria. The syntax is:\n",
    "```SQL\n",
    "SELECT column1, column2 FROM table1, table2 WHERE column2='value';\n",
    "```\n",
    "In the above SQL statement:\n",
    "\n",
    "- The SELECT clause specifies one or more columns to be retrieved; to specify multiple columns, use a comma and a space between column names. To retrieve all columns, use the wild card * (an asterisk).\n",
    "- The FROM clause specifies one or more tables to be queried. Use a comma and space between table names when specifying multiple tables.\n",
    "- The WHERE clause selects only the rows in which the specified column contains the specified value. The value is enclosed in single quotes (for example, WHERE last_name='Vader').\n",
    "- The semicolon (;) is the statement terminator. Technically, if you're sending only one statement to the back end, you don't need the statement terminator; if you're sending more than one, you need it. It's best practice to include it."
   ]
  },
  {
   "cell_type": "markdown",
   "id": "121d9708-ae8c-4e03-ae45-9cb6873fa532",
   "metadata": {},
   "source": [
    "# Q5. Explain Primary Key and Foreign Key."
   ]
  },
  {
   "cell_type": "markdown",
   "id": "08f240b6-576c-4b45-947a-f1a3bbc6872d",
   "metadata": {},
   "source": [
    "In a relational database, a primary key is a column or group of columns that uniquely identifies each row in a table. A primary key constraint is used to enforce this uniqueness, and it ensures that no two rows in a table have the same primary key value. Primary keys are crucial for identifying and relating data between tables.\n",
    "\n",
    "A foreign key is a column or group of columns in one table that refers to the primary key of another table. It establishes a relationship between two tables by ensuring that the values in the foreign key column(s) correspond to values in the primary key column(s) of the referenced table. This relationship can be used to enforce data integrity rules, such as ensuring that only valid data is inserted into a table, and to join data from multiple tables.\n",
    "\n",
    "In simple terms, a primary key is a unique identifier for each row in a table, while a foreign key is a reference to a primary key in another table that is used to establish a relationship between two tables.\n"
   ]
  },
  {
   "cell_type": "markdown",
   "id": "bcac82dd-402b-4451-9b03-3f4a373bc4e8",
   "metadata": {},
   "source": [
    "# Q6. Write a python code to connect MySQL to python. Explain the cursor() and execute() method."
   ]
  },
  {
   "cell_type": "markdown",
   "id": "6962fea5-0439-41da-a3c3-edf965a8b665",
   "metadata": {},
   "source": [
    "To connect MySQL to Python, you need to use the MySQL Connector Python module. Here's an example code that connects to a MySQL database and prints the version of the MySQL server:\n",
    "\n",
    "```python\n",
    "import mysql.connector\n",
    "\n",
    "mydb = mysql.connector.connect(\n",
    "  host=\"localhost\",\n",
    "  user=\"yourusername\",\n",
    "  password=\"yourpassword\",\n",
    "  database=\"yourdatabase\"\n",
    ")\n",
    "\n",
    "print(mydb)\n",
    "\n",
    "mycursor = mydb.cursor()\n",
    "\n",
    "mycursor.execute(\"SELECT VERSION()\")\n",
    "\n",
    "data = mycursor.fetchone()\n",
    "\n",
    "print(\"MySQL version: \", data)\n",
    "\n",
    "```\n",
    "In the code above, we first import the mysql.connector module and then use the connect() method to connect to a MySQL database. The host, user, password, and database parameters are used to specify the MySQL server details.\n",
    "\n",
    "Next, we create a cursor object using the cursor() method of the database connection object. The cursor is used to execute SQL queries and fetch results.\n",
    "\n",
    "We then use the execute() method of the cursor to execute a SQL query. In this case, we're executing the SELECT VERSION() query, which retrieves the version of the MySQL server.\n",
    "\n",
    "Finally, we use the fetchone() method of the cursor to fetch the result of the query, which is then printed to the console.\n",
    "\n",
    "The execute() method is used to execute a SQL query or a command in the MySQL database. The query or command can be specified as a string parameter to the method.\n",
    "\n",
    "The cursor() method returns a cursor object, which is used to interact with the database. The cursor can be used to execute queries, fetch results, and perform other operations on the database."
   ]
  },
  {
   "cell_type": "markdown",
   "id": "3e6c13a2-877a-4a39-961c-ed1169487ed3",
   "metadata": {},
   "source": [
    "# Q7. Give the order of execution of SQL clauses in an SQL query."
   ]
  },
  {
   "cell_type": "markdown",
   "id": "3e12ec32-6574-4f98-9e4e-83579ae6eec0",
   "metadata": {},
   "source": [
    "The order of execution of SQL clauses in an SQL query is as follows:\n",
    "\n",
    "FROM: The FROM clause specifies the table or tables from which the data is to be selected.\n",
    "\n",
    "WHERE: The WHERE clause is used to filter the data based on a specified condition or set of conditions.\n",
    "\n",
    "GROUP BY: The GROUP BY clause is used to group the data based on one or more columns.\n",
    "\n",
    "HAVING: The HAVING clause is used to filter the grouped data based on a specified condition or set of conditions.\n",
    "\n",
    "SELECT: The SELECT clause is used to select the columns of data to be retrieved from the database.\n",
    "\n",
    "ORDER BY: The ORDER BY clause is used to sort the data in ascending or descending order based on one or more columns.\n",
    "\n",
    "LIMIT/OFFSET: The LIMIT and OFFSET clauses are used to limit the number of rows returned by the query and to specify the starting point of the result set.\n",
    "\n",
    "It's important to note that not all of these clauses are required in every SQL query. The minimum required clauses for a valid SQL query are FROM and SELECT. The other clauses are optional and can be used as needed depending on the requirements of the query."
   ]
  },
  {
   "cell_type": "code",
   "execution_count": null,
   "id": "227ced9c-dc62-43c5-904c-b22f33bd05c4",
   "metadata": {},
   "outputs": [],
   "source": []
  }
 ],
 "metadata": {
  "kernelspec": {
   "display_name": "Python 3 (ipykernel)",
   "language": "python",
   "name": "python3"
  },
  "language_info": {
   "codemirror_mode": {
    "name": "ipython",
    "version": 3
   },
   "file_extension": ".py",
   "mimetype": "text/x-python",
   "name": "python",
   "nbconvert_exporter": "python",
   "pygments_lexer": "ipython3",
   "version": "3.10.8"
  }
 },
 "nbformat": 4,
 "nbformat_minor": 5
}
