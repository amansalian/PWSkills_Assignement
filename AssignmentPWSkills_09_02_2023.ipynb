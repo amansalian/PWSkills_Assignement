{
 "cells": [
  {
   "cell_type": "markdown",
   "id": "9a2d1673-1c4f-40f9-9a92-273955399a94",
   "metadata": {},
   "source": [
    "# Q1, Create a vehicle class with an init method having instance variables as name_of_vehicle, max_speed and average_of_vehicle."
   ]
  },
  {
   "cell_type": "code",
   "execution_count": 2,
   "id": "1164d836-32c2-4807-a297-fc02dba3089b",
   "metadata": {},
   "outputs": [],
   "source": [
    "class Vehicle:\n",
    "    def __init__(self, name_of_vehicle, max_speed, average_of_vehicle):\n",
    "        self.name_of_vehicle = name_of_vehicle\n",
    "        self.max_speed = max_speed\n",
    "        self.average_of_vehicle = average_of_vehicle\n"
   ]
  },
  {
   "cell_type": "markdown",
   "id": "68ae1bdc-648d-4990-9891-5f292529fe28",
   "metadata": {},
   "source": [
    "# Q2. Create a child class car from the vehicle class created in Que 1, which will inherit the vehicle class. Create a method named seating_capacity which takes capacity as an argument and returns the name of the vehicle and its seating capacity."
   ]
  },
  {
   "cell_type": "code",
   "execution_count": 3,
   "id": "9b037ec3-7751-489f-9dcf-5c60c23fd6de",
   "metadata": {},
   "outputs": [
    {
     "name": "stdout",
     "output_type": "stream",
     "text": [
      "Ford Mustang has a seating capacity of 4 passengers.\n",
      "Toyota Fortuner has a seating capacity of 7 passengers.\n"
     ]
    }
   ],
   "source": [
    "class Car(Vehicle):\n",
    "    def seating_capacity(self, capacity):\n",
    "        return f\"{self.name_of_vehicle} has a seating capacity of {capacity} passengers.\"\n",
    "\n",
    "\n",
    "car = Car(\"Ford Mustang\", 250, 20)\n",
    "print(car.seating_capacity(4))    \n",
    "\n",
    "suv = Car(\"Toyota Fortuner\", 220, 7)\n",
    "print(suv.seating_capacity(7))   "
   ]
  },
  {
   "cell_type": "markdown",
   "id": "bab1b6f8-f630-49df-a8cc-5835bb4dd158",
   "metadata": {},
   "source": [
    "# Q3. What is multiple inheritance? Write a python code to demonstrate multiple inheritance."
   ]
  },
  {
   "cell_type": "markdown",
   "id": "49c09dd0-2c91-43f8-8d52-8cc5bcab576d",
   "metadata": {},
   "source": [
    "Multiple inheritance is a feature in object-oriented programming where a class can inherit from more than one base class. This means that the subclass will have access to the attributes and methods of all the base classes it inherits from.\n",
    "\n",
    "```python\n",
    "class Animal:\n",
    "    def __init__(self, name):\n",
    "        self.name = name\n",
    "    \n",
    "    def eat(self):\n",
    "        print(f\"{self.name} is eating.\")\n",
    "\n",
    "class Flyer:\n",
    "    def fly(self):\n",
    "        print(f\"{self.name} is flying.\")\n",
    "\n",
    "class Bat(Animal, Flyer):\n",
    "    def __init__(self, name):\n",
    "        super().__init__(name)\n",
    "\n",
    "bat = Bat(\"Fruit Bat\")\n",
    "bat.eat()  \n",
    "bat.fly()\n",
    "```"
   ]
  },
  {
   "cell_type": "markdown",
   "id": "f90fb152-19a7-4671-93de-38f0a0130085",
   "metadata": {},
   "source": [
    "# Q4. What are getter and setter in python? Create a class and create a getter and a setter method in this class."
   ]
  },
  {
   "cell_type": "markdown",
   "id": "958424b6-1f16-4963-a8ec-0e341d38ce50",
   "metadata": {},
   "source": [
    "Getter and setter are methods used in object-oriented programming to access and modify the attributes of a class. A getter is a method that retrieves the value of an attribute, and a setter is a method that sets the value of an attribute.\n",
    "\n",
    "```python \n",
    "class Person:\n",
    "    def __init__(self, name):\n",
    "        self._name = name\n",
    "\n",
    "    @property\n",
    "    def name(self):\n",
    "        print(\"Getting name...\")\n",
    "        return self._name\n",
    "\n",
    "    @name.setter\n",
    "    def name(self, value):\n",
    "        print(\"Setting name...\")\n",
    "        self._name = value\n",
    "\n",
    "person = Person(\"John\")\n",
    "print(person.name)     # Output: Getting name... John\n",
    "\n",
    "person.name = \"Doe\"\n",
    "print(person.name)     # Output: Setting name... Getting name... Doe\n",
    "```"
   ]
  },
  {
   "cell_type": "markdown",
   "id": "22cb5490-11c0-4d3c-97a6-0c8c12b014d4",
   "metadata": {},
   "source": [
    "# Q5.What is method overriding in python? Write a python code to demonstrate method overriding."
   ]
  },
  {
   "cell_type": "markdown",
   "id": "b4175efd-86e5-442c-b88e-610d43ac1b3f",
   "metadata": {},
   "source": [
    "Method overriding is a feature in object-oriented programming where a subclass provides a different implementation of a method that is already defined in its superclass. This means that the method in the subclass overrides the implementation of the method in the superclass.\n",
    "\n",
    "```python\n",
    "class Animal:\n",
    "    def make_sound(self):\n",
    "        print(\"Animal is making a sound.\")\n",
    "\n",
    "class Cat(Animal):\n",
    "    def make_sound(self):\n",
    "        print(\"Meow!\")\n",
    "\n",
    "cat = Cat()\n",
    "cat.make_sound()    # Output: Meow!\n",
    "```\n",
    "In this example, there are two classes: Animal and Cat. The Animal class has a make_sound method that prints a message saying that an animal is making a sound. The Cat class inherits from the Animal class and overrides the make_sound method with its own implementation that prints \"Meow!\".\n",
    "\n",
    "When you create an instance of the Cat class and call the make_sound method, you can see that the implementation of the make_sound method in the Cat class is used instead of the implementation in the Animal class.\n",
    "\n",
    "Note that method overriding only occurs when a subclass method has the same name and signature as a method in its superclass. If the method in the subclass has a different name or signature, it is not considered an override, and the method in the superclass is not affected."
   ]
  }
 ],
 "metadata": {
  "kernelspec": {
   "display_name": "Python 3 (ipykernel)",
   "language": "python",
   "name": "python3"
  },
  "language_info": {
   "codemirror_mode": {
    "name": "ipython",
    "version": 3
   },
   "file_extension": ".py",
   "mimetype": "text/x-python",
   "name": "python",
   "nbconvert_exporter": "python",
   "pygments_lexer": "ipython3",
   "version": "3.10.8"
  }
 },
 "nbformat": 4,
 "nbformat_minor": 5
}
