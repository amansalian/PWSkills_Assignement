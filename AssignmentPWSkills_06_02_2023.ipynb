{
 "cells": [
  {
   "cell_type": "markdown",
   "id": "6bac2f15-0666-467e-80cb-99757e2f158e",
   "metadata": {},
   "source": [
    "# Q1. Create a function which will take a list as an argument and return the product of all the numbers after creating a flat list. Use the below-given list as an argument for your function. list1 = [1,2,3,4, [44,55,66, True], False, (34,56,78,89,34), {1,2,3,3,2,1}, {1:34, \"key2\": [55, 67, 78, 89], 4: (45,22, 61, 34)}, [56, 'data science'], 'Machine Learning']"
   ]
  },
  {
   "cell_type": "code",
   "execution_count": 11,
   "id": "e1d349dc-bb99-4fb3-8646-cb373568bfd0",
   "metadata": {},
   "outputs": [
    {
     "data": {
      "text/plain": [
       "4134711838987085478833841242112000"
      ]
     },
     "execution_count": 11,
     "metadata": {},
     "output_type": "execute_result"
    }
   ],
   "source": [
    "from functools import reduce \n",
    "\n",
    "\n",
    "list1 = [1,2,3,4, [44,55,66, True], False, (34,56,78,89,34), {1,2,3,3,2,1}, {1:34, \"key2\": [55, 67, 78, 89], 4: (45,22, 61, 34)}, [56, 'data science'], 'Machine Learning']\n",
    "\n",
    "def flatenList(*args):\n",
    "    new_list = []\n",
    "    for i in list1:\n",
    "        if type(i)==int:\n",
    "            new_list.append(i)\n",
    "        elif type(i)== list:\n",
    "            for j in i:\n",
    "                if type(j)==int:\n",
    "                    new_list.append(j)\n",
    "        elif type(i) == tuple:\n",
    "            tuple_to_list = list(i)\n",
    "            new_list.extend(tuple_to_list)\n",
    "        elif type(i) == set:\n",
    "            set_to_list = list(i)\n",
    "            new_list.extend(set_to_list)\n",
    "        elif type(i) == dict:\n",
    "            keys_list = list(i.keys())\n",
    "            values_list = list(i.values())\n",
    "            for z in keys_list:\n",
    "                if type(z) == int:\n",
    "                    new_list.append(z)\n",
    "            for c in values_list:\n",
    "                if type(z) == int:\n",
    "                    new_list.append(c)\n",
    "        else:\n",
    "            continue\n",
    "    final_list = []          \n",
    "    for final in new_list:\n",
    "        if type(final) == int:\n",
    "            final_list.append(final)\n",
    "        elif type(final) == list:\n",
    "            for k in final:\n",
    "                  if type(k) == int:\n",
    "                      final_list.append(k)\n",
    "        elif type(final) == tuple:\n",
    "            tuple_to_list_2 = list(final)\n",
    "            final_list.extend(tuple_to_list_2)\n",
    "    \n",
    "    product_final = reduce(lambda x, y: x*y, final_list)\n",
    "                  \n",
    "    return product_final\n",
    "\n",
    "flatenList(list1)    "
   ]
  },
  {
   "cell_type": "markdown",
   "id": "b6869c68-39d9-437b-ae2c-fdf02c115128",
   "metadata": {},
   "source": [
    "# Q2. Write a python program for encrypting a message sent to you by your friend. The logic of encryption should be such that, for a the output should be z. For b, the output should be y. For c, the output should be x respectively. Also, the whitespace should be replaced with a dollar sign. Keep the punctuation marks unchanged.\n",
    "Input Sentence: **I want to become a Data Scientist**. Encrypt the above input sentence using the program you just created. Note: Convert the given input sentence into lowercase before encrypting. The final output should be\n",
    "lowercase."
   ]
  },
  {
   "cell_type": "code",
   "execution_count": 1,
   "id": "7979a61e-74d4-4d90-8083-76dcc0e86c2c",
   "metadata": {},
   "outputs": [
    {
     "name": "stdout",
     "output_type": "stream",
     "text": [
      "r$dzmg$gl$yvxlnv$z$wzgz$hxrvmgrhg.\n"
     ]
    }
   ],
   "source": [
    "def encrypt_message(message):\n",
    "    message = message.lower() # Convert to lowercase\n",
    "    encrypted = \"\"\n",
    "    for char in message:\n",
    "        if char == \" \":\n",
    "            encrypted += \"$\" # Replace space with dollar sign\n",
    "        elif char.isalpha():\n",
    "            encrypted += chr(ord('a') + (ord('z') - ord(char))) # Apply encryption rule\n",
    "        else:\n",
    "            encrypted += char # Keep punctuation marks unchanged\n",
    "    return encrypted\n",
    "\n",
    "input_sentence = \"I want to become a Data Scientist.\"\n",
    "encrypted_sentence = encrypt_message(input_sentence)\n",
    "print(encrypted_sentence)\n"
   ]
  },
  {
   "cell_type": "code",
   "execution_count": null,
   "id": "600bdbf8-72ca-4e39-b534-2e404027af80",
   "metadata": {},
   "outputs": [],
   "source": []
  }
 ],
 "metadata": {
  "kernelspec": {
   "display_name": "Python 3 (ipykernel)",
   "language": "python",
   "name": "python3"
  },
  "language_info": {
   "codemirror_mode": {
    "name": "ipython",
    "version": 3
   },
   "file_extension": ".py",
   "mimetype": "text/x-python",
   "name": "python",
   "nbconvert_exporter": "python",
   "pygments_lexer": "ipython3",
   "version": "3.10.8"
  }
 },
 "nbformat": 4,
 "nbformat_minor": 5
}
